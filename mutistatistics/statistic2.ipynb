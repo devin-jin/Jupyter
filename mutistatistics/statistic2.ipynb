{
 "cells": [
  {
   "cell_type": "code",
   "execution_count": 2,
   "metadata": {},
   "outputs": [],
   "source": [
    "import numpy as np\n",
    "import pandas as pd\n",
    "import scipy.stats as stats\n",
    "import matplotlib.pyplot as plt\n",
    "%matplotlib inline"
   ]
  },
  {
   "cell_type": "markdown",
   "metadata": {},
   "source": [
    "# QQ图"
   ]
  },
  {
   "cell_type": "markdown",
   "metadata": {},
   "source": [
    "1.获取原始N个数据的概率值(此处定义N=100)"
   ]
  },
  {
   "cell_type": "code",
   "execution_count": 3,
   "metadata": {},
   "outputs": [
    {
     "data": {
      "text/plain": [
       "array([0.005, 0.015, 0.025, 0.035, 0.045, 0.055, 0.065, 0.075, 0.085,\n",
       "       0.095, 0.105, 0.115, 0.125, 0.135, 0.145, 0.155, 0.165, 0.175,\n",
       "       0.185, 0.195, 0.205, 0.215, 0.225, 0.235, 0.245, 0.255, 0.265,\n",
       "       0.275, 0.285, 0.295, 0.305, 0.315, 0.325, 0.335, 0.345, 0.355,\n",
       "       0.365, 0.375, 0.385, 0.395, 0.405, 0.415, 0.425, 0.435, 0.445,\n",
       "       0.455, 0.465, 0.475, 0.485, 0.495, 0.505, 0.515, 0.525, 0.535,\n",
       "       0.545, 0.555, 0.565, 0.575, 0.585, 0.595, 0.605, 0.615, 0.625,\n",
       "       0.635, 0.645, 0.655, 0.665, 0.675, 0.685, 0.695, 0.705, 0.715,\n",
       "       0.725, 0.735, 0.745, 0.755, 0.765, 0.775, 0.785, 0.795, 0.805,\n",
       "       0.815, 0.825, 0.835, 0.845, 0.855, 0.865, 0.875, 0.885, 0.895,\n",
       "       0.905, 0.915, 0.925, 0.935, 0.945, 0.955, 0.965, 0.975, 0.985,\n",
       "       0.995])"
      ]
     },
     "execution_count": 3,
     "metadata": {},
     "output_type": "execute_result"
    }
   ],
   "source": [
    "N=100\n",
    "q=np.linspace(0.5/N,1-0.5/N,N)\n",
    "q"
   ]
  },
  {
   "cell_type": "markdown",
   "metadata": {},
   "source": [
    "2.计算标准分位数"
   ]
  },
  {
   "cell_type": "code",
   "execution_count": 4,
   "metadata": {},
   "outputs": [
    {
     "data": {
      "text/plain": [
       "array([-2.5758293 , -2.17009038, -1.95996398, -1.81191067, -1.69539771,\n",
       "       -1.59819314, -1.51410189, -1.43953147, -1.37220381, -1.31057911,\n",
       "       -1.25356544, -1.20035886, -1.15034938, -1.10306256, -1.05812162,\n",
       "       -1.01522203, -0.97411388, -0.93458929, -0.89647336, -0.85961736,\n",
       "       -0.82389363, -0.78919165, -0.75541503, -0.72247905, -0.69030882,\n",
       "       -0.65883769, -0.62800601, -0.59776013, -0.5680515 , -0.53883603,\n",
       "       -0.51007346, -0.48172685, -0.45376219, -0.42614801, -0.39885507,\n",
       "       -0.37185609, -0.34512553, -0.31863936, -0.2923749 , -0.26631061,\n",
       "       -0.24042603, -0.21470157, -0.18911843, -0.16365849, -0.13830421,\n",
       "       -0.11303854, -0.08784484, -0.06270678, -0.03760829, -0.01253347,\n",
       "        0.01253347,  0.03760829,  0.06270678,  0.08784484,  0.11303854,\n",
       "        0.13830421,  0.16365849,  0.18911843,  0.21470157,  0.24042603,\n",
       "        0.26631061,  0.2923749 ,  0.31863936,  0.34512553,  0.37185609,\n",
       "        0.39885507,  0.42614801,  0.45376219,  0.48172685,  0.51007346,\n",
       "        0.53883603,  0.5680515 ,  0.59776013,  0.62800601,  0.65883769,\n",
       "        0.69030882,  0.72247905,  0.75541503,  0.78919165,  0.82389363,\n",
       "        0.85961736,  0.89647336,  0.93458929,  0.97411388,  1.01522203,\n",
       "        1.05812162,  1.10306256,  1.15034938,  1.20035886,  1.25356544,\n",
       "        1.31057911,  1.37220381,  1.43953147,  1.51410189,  1.59819314,\n",
       "        1.69539771,  1.81191067,  1.95996398,  2.17009038,  2.5758293 ])"
      ]
     },
     "execution_count": 4,
     "metadata": {},
     "output_type": "execute_result"
    }
   ],
   "source": [
    "ppf=stats.norm.ppf(q,0,1)\n",
    "ppf"
   ]
  },
  {
   "cell_type": "markdown",
   "metadata": {},
   "source": [
    "3.画图"
   ]
  },
  {
   "cell_type": "code",
   "execution_count": 17,
   "metadata": {},
   "outputs": [
    {
     "data": {
      "text/plain": [
       "Text(0, 0.5, 'Sample Quantiles')"
      ]
     },
     "execution_count": 17,
     "metadata": {},
     "output_type": "execute_result"
    },
    {
     "data": {
      "image/png": "[encoded data removed]",
      "text/plain": [
       "<Figure size 432x288 with 1 Axes>"
      ]
     },
     "metadata": {
      "needs_background": "light"
     },
     "output_type": "display_data"
    }
   ],
   "source": [
    "x=np.random.normal(1,8.25,N)#取一个来自期望为1标准差为8.25的正态分布的样本数据\n",
    "x=np.sort(x)#对读取的数据进行排序\n",
    "plt.scatter(x,ppf)\n",
    "plt.xlabel('Theoretical quantile')\n",
    "plt.ylabel('Sample Quantiles')"
   ]
  },
  {
   "cell_type": "markdown",
   "metadata": {},
   "source": [
    "可以看到正态分布的样本qq图基本呈现直线性"
   ]
  },
  {
   "cell_type": "code",
   "execution_count": 6,
   "metadata": {},
   "outputs": [
    {
     "data": {
      "text/plain": [
       "Text(0, 0.5, 'Sample Quantiles')"
      ]
     },
     "execution_count": 6,
     "metadata": {},
     "output_type": "execute_result"
    },
    {
     "data": {
      "image/png": "[encoded data removed]",
      "text/plain": [
       "<Figure size 432x288 with 1 Axes>"
      ]
     },
     "metadata": {
      "needs_background": "light"
     },
     "output_type": "display_data"
    }
   ],
   "source": [
    "x=np.random.exponential(5,100)#取一个来自指数分布的样本数据\n",
    "x=np.sort(x)#对读取的数据进行排序\n",
    "plt.scatter(x,ppf)\n",
    "plt.xlabel('Theoretical quantile')\n",
    "plt.ylabel('Sample Quantiles')"
   ]
  },
  {
   "cell_type": "markdown",
   "metadata": {},
   "source": [
    "可以看到来自指数分布的样本向上凸"
   ]
  },
  {
   "cell_type": "markdown",
   "metadata": {},
   "source": [
    "不呈现直线性"
   ]
  },
  {
   "cell_type": "markdown",
   "metadata": {},
   "source": [
    "\n",
    "\n",
    "\n",
    "\n",
    "\n",
    "# 成年女性出汗量及其体内钠和钾含量数据的参数假设检验"
   ]
  },
  {
   "cell_type": "markdown",
   "metadata": {},
   "source": [
    "1.导入数据"
   ]
  },
  {
   "cell_type": "code",
   "execution_count": 7,
   "metadata": {},
   "outputs": [
    {
     "data": {
      "text/html": [
       "<div>\n",
       "<style scoped>\n",
       "    .dataframe tbody tr th:only-of-type {\n",
       "        vertical-align: middle;\n",
       "    }\n",
       "\n",
       "    .dataframe tbody tr th {\n",
       "        vertical-align: top;\n",
       "    }\n",
       "\n",
       "    .dataframe thead th {\n",
       "        text-align: right;\n",
       "    }\n",
       "</style>\n",
       "<table border=\"1\" class=\"dataframe\">\n",
       "  <thead>\n",
       "    <tr style=\"text-align: right;\">\n",
       "      <th></th>\n",
       "      <th>x1</th>\n",
       "      <th>x2</th>\n",
       "      <th>x3</th>\n",
       "    </tr>\n",
       "  </thead>\n",
       "  <tbody>\n",
       "    <tr>\n",
       "      <th>0</th>\n",
       "      <td>3.7</td>\n",
       "      <td>48.5</td>\n",
       "      <td>9.3</td>\n",
       "    </tr>\n",
       "    <tr>\n",
       "      <th>1</th>\n",
       "      <td>3.8</td>\n",
       "      <td>47.2</td>\n",
       "      <td>10.9</td>\n",
       "    </tr>\n",
       "    <tr>\n",
       "      <th>2</th>\n",
       "      <td>3.1</td>\n",
       "      <td>55.5</td>\n",
       "      <td>9.7</td>\n",
       "    </tr>\n",
       "    <tr>\n",
       "      <th>3</th>\n",
       "      <td>2.4</td>\n",
       "      <td>24.8</td>\n",
       "      <td>14.0</td>\n",
       "    </tr>\n",
       "    <tr>\n",
       "      <th>4</th>\n",
       "      <td>6.7</td>\n",
       "      <td>47.4</td>\n",
       "      <td>8.5</td>\n",
       "    </tr>\n",
       "    <tr>\n",
       "      <th>5</th>\n",
       "      <td>3.9</td>\n",
       "      <td>36.9</td>\n",
       "      <td>12.7</td>\n",
       "    </tr>\n",
       "    <tr>\n",
       "      <th>6</th>\n",
       "      <td>3.5</td>\n",
       "      <td>27.8</td>\n",
       "      <td>9.8</td>\n",
       "    </tr>\n",
       "    <tr>\n",
       "      <th>7</th>\n",
       "      <td>1.5</td>\n",
       "      <td>13.5</td>\n",
       "      <td>10.1</td>\n",
       "    </tr>\n",
       "    <tr>\n",
       "      <th>8</th>\n",
       "      <td>4.5</td>\n",
       "      <td>71.6</td>\n",
       "      <td>8.2</td>\n",
       "    </tr>\n",
       "    <tr>\n",
       "      <th>9</th>\n",
       "      <td>4.1</td>\n",
       "      <td>44.1</td>\n",
       "      <td>11.2</td>\n",
       "    </tr>\n",
       "    <tr>\n",
       "      <th>10</th>\n",
       "      <td>5.7</td>\n",
       "      <td>65.1</td>\n",
       "      <td>8.0</td>\n",
       "    </tr>\n",
       "    <tr>\n",
       "      <th>11</th>\n",
       "      <td>3.2</td>\n",
       "      <td>53.2</td>\n",
       "      <td>12.0</td>\n",
       "    </tr>\n",
       "    <tr>\n",
       "      <th>12</th>\n",
       "      <td>4.6</td>\n",
       "      <td>36.1</td>\n",
       "      <td>7.9</td>\n",
       "    </tr>\n",
       "    <tr>\n",
       "      <th>13</th>\n",
       "      <td>7.2</td>\n",
       "      <td>33.1</td>\n",
       "      <td>7.6</td>\n",
       "    </tr>\n",
       "    <tr>\n",
       "      <th>14</th>\n",
       "      <td>5.4</td>\n",
       "      <td>54.1</td>\n",
       "      <td>11.3</td>\n",
       "    </tr>\n",
       "    <tr>\n",
       "      <th>15</th>\n",
       "      <td>4.5</td>\n",
       "      <td>58.8</td>\n",
       "      <td>12.3</td>\n",
       "    </tr>\n",
       "    <tr>\n",
       "      <th>16</th>\n",
       "      <td>4.5</td>\n",
       "      <td>40.2</td>\n",
       "      <td>8.4</td>\n",
       "    </tr>\n",
       "    <tr>\n",
       "      <th>17</th>\n",
       "      <td>8.5</td>\n",
       "      <td>56.4</td>\n",
       "      <td>7.1</td>\n",
       "    </tr>\n",
       "    <tr>\n",
       "      <th>18</th>\n",
       "      <td>6.5</td>\n",
       "      <td>52.8</td>\n",
       "      <td>10.9</td>\n",
       "    </tr>\n",
       "    <tr>\n",
       "      <th>19</th>\n",
       "      <td>5.5</td>\n",
       "      <td>40.9</td>\n",
       "      <td>9.4</td>\n",
       "    </tr>\n",
       "  </tbody>\n",
       "</table>\n",
       "</div>"
      ],
      "text/plain": [
       "     x1    x2    x3\n",
       "0   3.7  48.5   9.3\n",
       "1   3.8  47.2  10.9\n",
       "2   3.1  55.5   9.7\n",
       "3   2.4  24.8  14.0\n",
       "4   6.7  47.4   8.5\n",
       "5   3.9  36.9  12.7\n",
       "6   3.5  27.8   9.8\n",
       "7   1.5  13.5  10.1\n",
       "8   4.5  71.6   8.2\n",
       "9   4.1  44.1  11.2\n",
       "10  5.7  65.1   8.0\n",
       "11  3.2  53.2  12.0\n",
       "12  4.6  36.1   7.9\n",
       "13  7.2  33.1   7.6\n",
       "14  5.4  54.1  11.3\n",
       "15  4.5  58.8  12.3\n",
       "16  4.5  40.2   8.4\n",
       "17  8.5  56.4   7.1\n",
       "18  6.5  52.8  10.9\n",
       "19  5.5  40.9   9.4"
      ]
     },
     "execution_count": 7,
     "metadata": {},
     "output_type": "execute_result"
    }
   ],
   "source": [
    "data = pd.DataFrame({\n",
    "    'x1': [3.7,3.8,3.1,2.4,6.7,3.9,3.5,1.5,4.5,4.1,5.7,3.2,4.6,7.2,5.4,4.5,4.5,8.5,6.5,5.5],\n",
    "    'x2': [48.5,47.2,55.5,24.8,47.4,36.9,27.8,13.5,71.6,44.1,65.1,53.2,36.1,33.1,54.1,58.8,40.2,56.4,52.8,40.9],\n",
    "    'x3': [9.3,10.9,9.7,14.0,8.5,12.7,9.8,10.1,8.2,11.2,8.0,12.0,7.9,7.6,11.3,12.3,8.4,7.1,10.9,9.4]})\n",
    "data"
   ]
  },
  {
   "cell_type": "markdown",
   "metadata": {},
   "source": [
    "ps：这个数据x1和书本中例题数据和解答过程中答案对不起来，我改了一下数据把第10行的4.7改成了5.7"
   ]
  },
  {
   "cell_type": "markdown",
   "metadata": {},
   "source": [
    "2.参数设置"
   ]
  },
  {
   "cell_type": "code",
   "execution_count": 8,
   "metadata": {},
   "outputs": [],
   "source": [
    "mu=np.array([4,50,10])\n",
    "n=20\n",
    "p=3\n",
    "x=np.transpose(data)"
   ]
  },
  {
   "cell_type": "code",
   "execution_count": 9,
   "metadata": {},
   "outputs": [
    {
     "data": {
      "text/plain": [
       "x1     4.640\n",
       "x2    45.400\n",
       "x3     9.965\n",
       "dtype: float64"
      ]
     },
     "execution_count": 9,
     "metadata": {},
     "output_type": "execute_result"
    }
   ],
   "source": [
    "s_mean=np.transpose(np.mean(data))\n",
    "s_mean#样本均值"
   ]
  },
  {
   "cell_type": "markdown",
   "metadata": {},
   "source": [
    "3.求样本的协方差和协方差的逆"
   ]
  },
  {
   "cell_type": "code",
   "execution_count": 10,
   "metadata": {},
   "outputs": [
    {
     "name": "stdout",
     "output_type": "stream",
     "text": [
      "[[  2.87936842  10.01        -1.80905263]\n",
      " [ 10.01       199.78842105  -5.64      ]\n",
      " [ -1.80905263  -5.64         3.62765789]]\n",
      "[[ 0.58615531 -0.02208572  0.25796874]\n",
      " [-0.02208572  0.00606723 -0.00158093]\n",
      " [ 0.25796874 -0.00158093  0.40184677]]\n"
     ]
    }
   ],
   "source": [
    "cov=np.cov(x)\n",
    "cov_inv=np.linalg.inv(cov)\n",
    "print(cov)\n",
    "print(cov_inv)"
   ]
  },
  {
   "cell_type": "markdown",
   "metadata": {},
   "source": [
    "4.计算T^2"
   ]
  },
  {
   "cell_type": "code",
   "execution_count": 11,
   "metadata": {},
   "outputs": [],
   "source": [
    "T=np.matmul(np.matmul(n*(np.transpose(s_mean-mu)),cov_inv),(s_mean-mu))"
   ]
  },
  {
   "cell_type": "markdown",
   "metadata": {},
   "source": [
    "5.转化计算F分布"
   ]
  },
  {
   "cell_type": "code",
   "execution_count": 12,
   "metadata": {},
   "outputs": [
    {
     "data": {
      "text/plain": [
       "2.9045462902176604"
      ]
     },
     "execution_count": 12,
     "metadata": {},
     "output_type": "execute_result"
    }
   ],
   "source": [
    "F=(n-p)/((n-1)*p)*T\n",
    "F"
   ]
  },
  {
   "cell_type": "markdown",
   "metadata": {},
   "source": [
    "5.计算临界值"
   ]
  },
  {
   "cell_type": "code",
   "execution_count": 13,
   "metadata": {},
   "outputs": [
    {
     "data": {
      "text/plain": [
       "3.1967768409433432"
      ]
     },
     "execution_count": 13,
     "metadata": {},
     "output_type": "execute_result"
    }
   ],
   "source": [
    "alpha=0.05\n",
    "stats.f.ppf(1-alpha,p,n-p)"
   ]
  },
  {
   "cell_type": "markdown",
   "metadata": {},
   "source": [
    "F=2.9045<3.2,所以H0相容"
   ]
  },
  {
   "cell_type": "code",
   "execution_count": 14,
   "metadata": {},
   "outputs": [
    {
     "data": {
      "text/plain": [
       "0.06492833538052906"
      ]
     },
     "execution_count": 14,
     "metadata": {},
     "output_type": "execute_result"
    }
   ],
   "source": [
    "stats.f.sf(F,p,n-p)"
   ]
  },
  {
   "cell_type": "markdown",
   "metadata": {},
   "source": [
    "计算得到p值为0.6493>0.05所以H0相容"
   ]
  }
 ],
 "metadata": {
  "kernelspec": {
   "display_name": "Python 3",
   "language": "python",
   "name": "python3"
  },
  "language_info": {
   "codemirror_mode": {
    "name": "ipython",
    "version": 3
   },
   "file_extension": ".py",
   "mimetype": "text/x-python",
   "name": "python",
   "nbconvert_exporter": "python",
   "pygments_lexer": "ipython3",
   "version": "3.8.3"
  },
  "nbTranslate": {
   "displayLangs": [
    "ch",
    "en"
   ],
   "hotkey": "alt-t",
   "langInMainMenu": true,
   "sourceLang": "en",
   "targetLang": "ch",
   "useGoogleTranslate": true
  },
  "toc": {
   "base_numbering": 1,
   "nav_menu": {},
   "number_sections": true,
   "sideBar": true,
   "skip_h1_title": false,
   "title_cell": "Table of Contents",
   "title_sidebar": "Contents",
   "toc_cell": false,
   "toc_position": {},
   "toc_section_display": true,
   "toc_window_display": false
  }
 },
 "nbformat": 4,
 "nbformat_minor": 5
}
