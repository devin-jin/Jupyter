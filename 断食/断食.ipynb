{
 "cells": [
  {
   "cell_type": "code",
   "execution_count": 2,
   "metadata": {},
   "outputs": [],
   "source": [
    "import pandas as pd\n",
    "import pylab\n",
    "import math\n",
    "import matplotlib.pyplot as plt\n",
    "import numpy as np\n",
    "import scipy.stats as stats\n",
    "data=pd.read_excel('断食.xlsx')"
   ]
  },
  {
   "cell_type": "code",
   "execution_count": 3,
   "metadata": {},
   "outputs": [],
   "source": [
    "data1=data.drop('人员',axis=1).T"
   ]
  },
  {
   "cell_type": "code",
   "execution_count": 4,
   "metadata": {},
   "outputs": [],
   "source": [
    "data1=data.T\n",
    "data1.columns=data1.loc['人员']\n",
    "data1.drop('人员',axis=0,inplace=True)"
   ]
  },
  {
   "cell_type": "code",
   "execution_count": 5,
   "metadata": {},
   "outputs": [
    {
     "data": {
      "text/html": [
       "<div>\n",
       "<style scoped>\n",
       "    .dataframe tbody tr th:only-of-type {\n",
       "        vertical-align: middle;\n",
       "    }\n",
       "\n",
       "    .dataframe tbody tr th {\n",
       "        vertical-align: top;\n",
       "    }\n",
       "\n",
       "    .dataframe thead th {\n",
       "        text-align: right;\n",
       "    }\n",
       "</style>\n",
       "<table border=\"1\" class=\"dataframe\">\n",
       "  <thead>\n",
       "    <tr style=\"text-align: right;\">\n",
       "      <th>人员</th>\n",
       "      <th>干预前瘦体重</th>\n",
       "      <th>干预后瘦体重</th>\n",
       "      <th>干预前体脂率</th>\n",
       "      <th>干预后体脂率</th>\n",
       "      <th>干预前睡眠数</th>\n",
       "      <th>干预后睡眠数</th>\n",
       "    </tr>\n",
       "  </thead>\n",
       "  <tbody>\n",
       "    <tr>\n",
       "      <th>A</th>\n",
       "      <td>29.9</td>\n",
       "      <td>28.1</td>\n",
       "      <td>0.23</td>\n",
       "      <td>0.21</td>\n",
       "      <td>7</td>\n",
       "      <td>5</td>\n",
       "    </tr>\n",
       "    <tr>\n",
       "      <th>B</th>\n",
       "      <td>30.1</td>\n",
       "      <td>31.2</td>\n",
       "      <td>0.33</td>\n",
       "      <td>0.31</td>\n",
       "      <td>7</td>\n",
       "      <td>6</td>\n",
       "    </tr>\n",
       "    <tr>\n",
       "      <th>C</th>\n",
       "      <td>31.2</td>\n",
       "      <td>31</td>\n",
       "      <td>0.21</td>\n",
       "      <td>0.22</td>\n",
       "      <td>7</td>\n",
       "      <td>8</td>\n",
       "    </tr>\n",
       "    <tr>\n",
       "      <th>D</th>\n",
       "      <td>29.4</td>\n",
       "      <td>28.1</td>\n",
       "      <td>0.22</td>\n",
       "      <td>0.2</td>\n",
       "      <td>7</td>\n",
       "      <td>6</td>\n",
       "    </tr>\n",
       "    <tr>\n",
       "      <th>E</th>\n",
       "      <td>32.5</td>\n",
       "      <td>32</td>\n",
       "      <td>0.21</td>\n",
       "      <td>0.19</td>\n",
       "      <td>7</td>\n",
       "      <td>8</td>\n",
       "    </tr>\n",
       "    <tr>\n",
       "      <th>F</th>\n",
       "      <td>34.4</td>\n",
       "      <td>34.1</td>\n",
       "      <td>0.32</td>\n",
       "      <td>0.2</td>\n",
       "      <td>7</td>\n",
       "      <td>9</td>\n",
       "    </tr>\n",
       "    <tr>\n",
       "      <th>G</th>\n",
       "      <td>28.2</td>\n",
       "      <td>29</td>\n",
       "      <td>0.29</td>\n",
       "      <td>0.23</td>\n",
       "      <td>7</td>\n",
       "      <td>7</td>\n",
       "    </tr>\n",
       "    <tr>\n",
       "      <th>H</th>\n",
       "      <td>30.5</td>\n",
       "      <td>31.2</td>\n",
       "      <td>0.3</td>\n",
       "      <td>0.32</td>\n",
       "      <td>7</td>\n",
       "      <td>6</td>\n",
       "    </tr>\n",
       "    <tr>\n",
       "      <th>I</th>\n",
       "      <td>29.1</td>\n",
       "      <td>30.2</td>\n",
       "      <td>0.23</td>\n",
       "      <td>0.31</td>\n",
       "      <td>7</td>\n",
       "      <td>7</td>\n",
       "    </tr>\n",
       "    <tr>\n",
       "      <th>J</th>\n",
       "      <td>30.5</td>\n",
       "      <td>31.2</td>\n",
       "      <td>0.33</td>\n",
       "      <td>0.31</td>\n",
       "      <td>7</td>\n",
       "      <td>4</td>\n",
       "    </tr>\n",
       "    <tr>\n",
       "      <th>K</th>\n",
       "      <td>32.5</td>\n",
       "      <td>30</td>\n",
       "      <td>0.32</td>\n",
       "      <td>0.3</td>\n",
       "      <td>7</td>\n",
       "      <td>5</td>\n",
       "    </tr>\n",
       "    <tr>\n",
       "      <th>L</th>\n",
       "      <td>29.1</td>\n",
       "      <td>30.1</td>\n",
       "      <td>0.31</td>\n",
       "      <td>0.34</td>\n",
       "      <td>7</td>\n",
       "      <td>8</td>\n",
       "    </tr>\n",
       "    <tr>\n",
       "      <th>M</th>\n",
       "      <td>28</td>\n",
       "      <td>27.1</td>\n",
       "      <td>0.28</td>\n",
       "      <td>0.3</td>\n",
       "      <td>7</td>\n",
       "      <td>7</td>\n",
       "    </tr>\n",
       "    <tr>\n",
       "      <th>N</th>\n",
       "      <td>35</td>\n",
       "      <td>31.2</td>\n",
       "      <td>0.27</td>\n",
       "      <td>0.23</td>\n",
       "      <td>7</td>\n",
       "      <td>6</td>\n",
       "    </tr>\n",
       "    <tr>\n",
       "      <th>O</th>\n",
       "      <td>32.4</td>\n",
       "      <td>30.2</td>\n",
       "      <td>0.23</td>\n",
       "      <td>0.34</td>\n",
       "      <td>7</td>\n",
       "      <td>9</td>\n",
       "    </tr>\n",
       "    <tr>\n",
       "      <th>P</th>\n",
       "      <td>29.1</td>\n",
       "      <td>30.1</td>\n",
       "      <td>0.24</td>\n",
       "      <td>0.21</td>\n",
       "      <td>7</td>\n",
       "      <td>5</td>\n",
       "    </tr>\n",
       "    <tr>\n",
       "      <th>Q</th>\n",
       "      <td>29.3</td>\n",
       "      <td>27.3</td>\n",
       "      <td>0.35</td>\n",
       "      <td>0.31</td>\n",
       "      <td>7</td>\n",
       "      <td>7</td>\n",
       "    </tr>\n",
       "    <tr>\n",
       "      <th>R</th>\n",
       "      <td>33.3</td>\n",
       "      <td>30.4</td>\n",
       "      <td>0.32</td>\n",
       "      <td>0.21</td>\n",
       "      <td>7</td>\n",
       "      <td>6</td>\n",
       "    </tr>\n",
       "    <tr>\n",
       "      <th>S</th>\n",
       "      <td>34.2</td>\n",
       "      <td>31.3</td>\n",
       "      <td>0.23</td>\n",
       "      <td>0.21</td>\n",
       "      <td>7</td>\n",
       "      <td>3</td>\n",
       "    </tr>\n",
       "    <tr>\n",
       "      <th>T</th>\n",
       "      <td>31.2</td>\n",
       "      <td>30.2</td>\n",
       "      <td>0.34</td>\n",
       "      <td>0.24</td>\n",
       "      <td>7</td>\n",
       "      <td>4</td>\n",
       "    </tr>\n",
       "    <tr>\n",
       "      <th>O.1</th>\n",
       "      <td>35</td>\n",
       "      <td>34.4</td>\n",
       "      <td>0.25</td>\n",
       "      <td>0.25</td>\n",
       "      <td>7</td>\n",
       "      <td>8</td>\n",
       "    </tr>\n",
       "    <tr>\n",
       "      <th>P.1</th>\n",
       "      <td>29.5</td>\n",
       "      <td>30.2</td>\n",
       "      <td>0.27</td>\n",
       "      <td>0.21</td>\n",
       "      <td>7</td>\n",
       "      <td>5</td>\n",
       "    </tr>\n",
       "    <tr>\n",
       "      <th>Q.1</th>\n",
       "      <td>29.9</td>\n",
       "      <td>28.1</td>\n",
       "      <td>0.28</td>\n",
       "      <td>0.22</td>\n",
       "      <td>7</td>\n",
       "      <td>4</td>\n",
       "    </tr>\n",
       "    <tr>\n",
       "      <th>U</th>\n",
       "      <td>30.2</td>\n",
       "      <td>32.1</td>\n",
       "      <td>0.29</td>\n",
       "      <td>0.31</td>\n",
       "      <td>7</td>\n",
       "      <td>7</td>\n",
       "    </tr>\n",
       "  </tbody>\n",
       "</table>\n",
       "</div>"
      ],
      "text/plain": [
       "人员  干预前瘦体重 干预后瘦体重 干预前体脂率 干预后体脂率 干预前睡眠数 干预后睡眠数\n",
       "A     29.9   28.1   0.23   0.21      7      5\n",
       "B     30.1   31.2   0.33   0.31      7      6\n",
       "C     31.2     31   0.21   0.22      7      8\n",
       "D     29.4   28.1   0.22    0.2      7      6\n",
       "E     32.5     32   0.21   0.19      7      8\n",
       "F     34.4   34.1   0.32    0.2      7      9\n",
       "G     28.2     29   0.29   0.23      7      7\n",
       "H     30.5   31.2    0.3   0.32      7      6\n",
       "I     29.1   30.2   0.23   0.31      7      7\n",
       "J     30.5   31.2   0.33   0.31      7      4\n",
       "K     32.5     30   0.32    0.3      7      5\n",
       "L     29.1   30.1   0.31   0.34      7      8\n",
       "M       28   27.1   0.28    0.3      7      7\n",
       "N       35   31.2   0.27   0.23      7      6\n",
       "O     32.4   30.2   0.23   0.34      7      9\n",
       "P     29.1   30.1   0.24   0.21      7      5\n",
       "Q     29.3   27.3   0.35   0.31      7      7\n",
       "R     33.3   30.4   0.32   0.21      7      6\n",
       "S     34.2   31.3   0.23   0.21      7      3\n",
       "T     31.2   30.2   0.34   0.24      7      4\n",
       "O.1     35   34.4   0.25   0.25      7      8\n",
       "P.1   29.5   30.2   0.27   0.21      7      5\n",
       "Q.1   29.9   28.1   0.28   0.22      7      4\n",
       "U     30.2   32.1   0.29   0.31      7      7"
      ]
     },
     "execution_count": 5,
     "metadata": {},
     "output_type": "execute_result"
    }
   ],
   "source": [
    "data1"
   ]
  },
  {
   "cell_type": "code",
   "execution_count": 6,
   "metadata": {},
   "outputs": [
    {
     "name": "stdout",
     "output_type": "stream",
     "text": [
      "A    28.1\n",
      "B    31.2\n",
      "C      31\n",
      "D    28.1\n",
      "E      32\n",
      "Name: 干预后瘦体重, dtype: object\n",
      "F    34.1\n",
      "G      29\n",
      "H    31.2\n",
      "I    30.2\n",
      "J    31.2\n",
      "Name: 干预后瘦体重, dtype: object\n"
     ]
    },
    {
     "data": {
      "text/plain": [
       "Ttest_indResult(statistic=-0.8981116026561226, pvalue=0.39535128344342974)"
      ]
     },
     "execution_count": 6,
     "metadata": {},
     "output_type": "execute_result"
    }
   ],
   "source": [
    "x=data1.iloc[0:5,1]\n",
    "y=data1.iloc[5:10,1]\n",
    "print(x)\n",
    "print(y)\n",
    "stats.ttest_ind(x,y)"
   ]
  },
  {
   "cell_type": "code",
   "execution_count": 7,
   "metadata": {
    "scrolled": true
   },
   "outputs": [
    {
     "name": "stdout",
     "output_type": "stream",
     "text": [
      "A    0.23\n",
      "B    0.33\n",
      "C    0.21\n",
      "D    0.22\n",
      "E    0.21\n",
      "Name: 干预前体脂率, dtype: object 0.24 0.0020800000000000007\n",
      "A    0.21\n",
      "B    0.31\n",
      "C    0.22\n",
      "D     0.2\n",
      "E    0.19\n",
      "Name: 干预后体脂率, dtype: object 0.22599999999999998 0.0018639999999999998\n"
     ]
    },
    {
     "data": {
      "text/plain": [
       "Ttest_relResult(statistic=2.3333333333333326, pvalue=0.0799596465455818)"
      ]
     },
     "execution_count": 7,
     "metadata": {},
     "output_type": "execute_result"
    }
   ],
   "source": [
    "a=data1.iloc[0:5,2]\n",
    "b=data1.iloc[0:5,3]\n",
    "print(a,a.mean(),np.var(a))\n",
    "print(b,b.mean(),np.var(b))\n",
    "stats.ttest_rel(a,b)"
   ]
  },
  {
   "cell_type": "code",
   "execution_count": 8,
   "metadata": {
    "scrolled": false
   },
   "outputs": [
    {
     "name": "stdout",
     "output_type": "stream",
     "text": [
      "B    0.33\n",
      "C    0.21\n",
      "D    0.22\n",
      "E    0.21\n",
      "F    0.32\n",
      "Name: 干预前体脂率, dtype: object 0.258 0.0030160000000000005\n",
      "B    0.31\n",
      "C    0.22\n",
      "D     0.2\n",
      "E    0.19\n",
      "F     0.2\n",
      "Name: 干预后体脂率, dtype: object 0.22399999999999998 0.001944\n"
     ]
    },
    {
     "data": {
      "text/plain": [
       "Ttest_relResult(statistic=1.5266450672275866, pvalue=0.20155545563251492)"
      ]
     },
     "execution_count": 8,
     "metadata": {},
     "output_type": "execute_result"
    }
   ],
   "source": [
    "a=data1.iloc[1:6,2]\n",
    "b=data1.iloc[1:6,3]\n",
    "print(a,a.mean(),np.var(a))\n",
    "print(b,b.mean(),np.var(b))\n",
    "stats.ttest_rel(a,b)"
   ]
  },
  {
   "cell_type": "code",
   "execution_count": 9,
   "metadata": {},
   "outputs": [
    {
     "data": {
      "text/plain": [
       "0.22399999999999998"
      ]
     },
     "execution_count": 9,
     "metadata": {},
     "output_type": "execute_result"
    }
   ],
   "source": [
    "b.mean()"
   ]
  },
  {
   "cell_type": "code",
   "execution_count": 10,
   "metadata": {},
   "outputs": [
    {
     "name": "stdout",
     "output_type": "stream",
     "text": [
      "A    0.23\n",
      "B    0.33\n",
      "C    0.21\n",
      "D    0.22\n",
      "E    0.21\n",
      "Name: 干预前体脂率, dtype: object\n",
      "A    0.21\n",
      "B    0.31\n",
      "C    0.22\n",
      "D     0.2\n",
      "E    0.19\n",
      "Name: 干预后体脂率, dtype: object\n"
     ]
    },
    {
     "data": {
      "text/plain": [
       "Ttest_relResult(statistic=2.3333333333333326, pvalue=0.0799596465455818)"
      ]
     },
     "execution_count": 10,
     "metadata": {},
     "output_type": "execute_result"
    }
   ],
   "source": [
    "a=data1.iloc[0:5,2]\n",
    "b=data1.iloc[0:5,3]\n",
    "print(a)\n",
    "print(b)\n",
    "stats.ttest_rel(a,b)"
   ]
  },
  {
   "cell_type": "code",
   "execution_count": null,
   "metadata": {},
   "outputs": [
    {
     "data": {
      "text/plain": [
       "array([ 3,  5,  7,  9, 11])"
      ]
     },
     "execution_count": 128,
     "metadata": {},
     "output_type": "execute_result"
    }
   ],
   "source": [
    "a+b"
   ]
  }
 ],
 "metadata": {
  "kernelspec": {
   "display_name": "Python 3.8.3 ('base')",
   "language": "python",
   "name": "python3"
  },
  "language_info": {
   "codemirror_mode": {
    "name": "ipython",
    "version": 3
   },
   "file_extension": ".py",
   "mimetype": "text/x-python",
   "name": "python",
   "nbconvert_exporter": "python",
   "pygments_lexer": "ipython3",
   "version": "3.8.3"
  },
  "nbTranslate": {
   "displayLangs": [
    "ch",
    "en"
   ],
   "hotkey": "alt-t",
   "langInMainMenu": true,
   "sourceLang": "en",
   "targetLang": "ch",
   "useGoogleTranslate": true
  },
  "toc": {
   "base_numbering": 1,
   "nav_menu": {},
   "number_sections": true,
   "sideBar": true,
   "skip_h1_title": false,
   "title_cell": "Table of Contents",
   "title_sidebar": "Contents",
   "toc_cell": false,
   "toc_position": {},
   "toc_section_display": true,
   "toc_window_display": false
  },
  "vscode": {
   "interpreter": {
    "hash": "ad2bdc8ecc057115af97d19610ffacc2b4e99fae6737bb82f5d7fb13d2f2c186"
   }
  }
 },
 "nbformat": 4,
 "nbformat_minor": 4
}
