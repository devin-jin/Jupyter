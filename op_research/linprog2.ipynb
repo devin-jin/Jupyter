{
 "cells": [
  {
   "cell_type": "code",
   "execution_count": null,
   "metadata": {},
   "outputs": [],
   "source": [
    "import numpy as np\n",
    "#定义线性回归系数模型\n",
    "def pivot(d,bn):\n",
    "    l = list(d[0][:-2])\n",
    "    jnum = l.index(max(l)) #转入编号\n",
    "    m = []\n",
    "    for i in range(bn):\n",
    "        if d[i][jnum] == 0:\n",
    "            m.append(0.)\n",
    "        else:\n",
    "            m.append(d[i][-1]/d[i][jnum])\n",
    "    inum = m.index(min([x for x in m[1:] if x!=0]))  #转出下标\n",
    "    s[inum-1] = jnum\n",
    "    r = d[inum][jnum]\n",
    "    d[inum] /= r\n",
    "    for i in [x for x in range(bn) if x !=inum]:\n",
    "        r = d[i][jnum]\n",
    "        d[i] -= r * d[inum]  \n",
    "#定义基变量函数\n",
    "def solve(d,bn):\n",
    "    flag = True\n",
    "    while flag:\n",
    "        if max(list(d[0][:-1])) <= 0: #直至所有系数小于等于0\n",
    "            flag = False\n",
    "        else:\n",
    "            pivot(d,bn)            \n",
    "def printSol(d,cn):\n",
    "    for i in range(cn - 1):\n",
    "        if i in s:\n",
    "            print(\"x\"+str(i)+\"=%.2f\" % d[s.index(i)+1][-1])\n",
    "        else:\n",
    "            print(\"x\"+str(i)+\"=0.00\")\n",
    "    print(\"objective is %.2f\"%(-d[0][-1]))\n",
    "d = np.loadtxt(\"D:\\\\test.txt\", dtype=np.float)\n",
    "(bn,cn) = d.shape\n",
    "s = list(range(cn-bn,cn-1)) #基变量列表\n",
    "solve(d,bn)\n",
    "printSol(d,cn)"
   ]
  }
 ],
 "metadata": {
  "kernelspec": {
   "display_name": "Python 3",
   "language": "python",
   "name": "python3"
  },
  "language_info": {
   "codemirror_mode": {
    "name": "ipython",
    "version": 3
   },
   "file_extension": ".py",
   "mimetype": "text/x-python",
   "name": "python",
   "nbconvert_exporter": "python",
   "pygments_lexer": "ipython3",
   "version": "3.8.3"
  },
  "toc": {
   "base_numbering": 1,
   "nav_menu": {},
   "number_sections": true,
   "sideBar": true,
   "skip_h1_title": false,
   "title_cell": "Table of Contents",
   "title_sidebar": "Contents",
   "toc_cell": false,
   "toc_position": {},
   "toc_section_display": true,
   "toc_window_display": false
  }
 },
 "nbformat": 4,
 "nbformat_minor": 4
}
