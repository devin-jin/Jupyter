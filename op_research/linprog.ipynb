{
 "cells": [
  {
   "cell_type": "code",
   "execution_count": 257,
   "metadata": {},
   "outputs": [
    {
     "name": "stdout",
     "output_type": "stream",
     "text": [
      "最优解为 [4 6 0 0 0] 最优目标函数值为 [12.]\n"
     ]
    }
   ],
   "source": [
    "import numpy as np\n",
    "\n",
    "c=np.array([6,-2,3,0,0],dtype=np.float)\n",
    "A=np.array([[2,-1,2,1,0],[1,0,4,0,1]],dtype=np.float)\n",
    "b=np.array([[2],[4]],dtype=np.float)\n",
    "B=np.array([4,5])\n",
    "o=np.array([6,-2,3,0,0],dtype=np.float)\n",
    "cb=np.array([0,0],dtype=np.float)\n",
    "\n",
    "flag=True\n",
    "while flag==True:\n",
    "    j1=np.where(o==max(o))\n",
    "    j1=j1[0]\n",
    "    z0=z1=[[100.]]\n",
    "    if(A[0,j1]>0):\n",
    "        z0=b[0,0]/A[0,j1]\n",
    "    if(A[1,j1]>0):\n",
    "        z1=b[1,0]/A[1,j1]\n",
    "    if z1<z0:i=1\n",
    "    if z1>z0:i=0\n",
    "    i1=A[i,j1]\n",
    "    for x in range(5):\n",
    "        A[i,x]=A[i,x]/i1\n",
    "    b[i,0]=b[i,0]/i1\n",
    "    m=A[1-i,j1]\n",
    "    for x in range(5):\n",
    "        A[1-i,x]=A[1-i,x]-m*A[i,x]\n",
    "    b[1-i,0]=b[1-i,0]-b[i,0]*m\n",
    "    cb[i]=c[j1]\n",
    "    B[i]=j1\n",
    "    for x in range(5):\n",
    "        o[x]=c[x]-cb[0]*A[0,x]-cb[1]*A[1,x]\n",
    "    flag=False\n",
    "    for x in o:\n",
    "         if x>0:\n",
    "            flag=True\n",
    "z=0\n",
    "v=np.array([0,0,0,0,0])\n",
    "for i in range(2):\n",
    "    x=B[i]\n",
    "    v[x]=b[i]\n",
    "    z=z+c[x]*b[i]\n",
    "print('最优解为',v,'最优目标函数值为',z) "
   ]
  },
  {
   "cell_type": "code",
   "execution_count": 254,
   "metadata": {},
   "outputs": [
    {
     "name": "stdout",
     "output_type": "stream",
     "text": [
      "[ 6. -2.  3.  0.  0.] [[4.]\n",
      " [6.]]\n",
      "0\n",
      "1\n",
      "[4 6 0 0 0] [12.]\n"
     ]
    }
   ],
   "source": [
    "z=0\n",
    "print(c,b)\n",
    "v=np.array([0,0,0,0,0])\n",
    "for i in range(2):\n",
    "    x=B[i]\n",
    "    v[x]=b[i]\n",
    "    print(x)\n",
    "    z=z+c[x]*b[i]\n",
    "print('最优解为',v,'最优目标函数值为',z)    "
   ]
  },
  {
   "cell_type": "code",
   "execution_count": 239,
   "metadata": {
    "scrolled": false
   },
   "outputs": [
    {
     "data": {
      "text/plain": [
       "0.0"
      ]
     },
     "execution_count": 239,
     "metadata": {},
     "output_type": "execute_result"
    }
   ],
   "source": [
    "B[0]"
   ]
  },
  {
   "cell_type": "code",
   "execution_count": 224,
   "metadata": {},
   "outputs": [
    {
     "name": "stdout",
     "output_type": "stream",
     "text": [
      "1 [0]\n",
      "2 [2.]\n",
      "[ 6. -2.  3.  0.  0.] [6.]\n",
      "3 [ 6. -2.  3.  0.  0.]\n",
      "4 [[1.]\n",
      " [3.]]\n",
      "5 [6. 0.]\n",
      "6 [[ 1.  -0.5  1.   0.5  0. ]\n",
      " [ 0.   0.5  3.  -0.5  1. ]]\n",
      "7 [ 0.  1. -3. -3.  0.]\n",
      "1 [1]\n",
      "2 [0.5]\n",
      "[ 6. -2.  3.  0.  0.] [-2.]\n",
      "3 [ 0.  1. -3. -3.  0.]\n",
      "4 [[4.]\n",
      " [6.]]\n",
      "5 [ 6. -2.]\n",
      "6 [[ 1.  0.  4.  0.  1.]\n",
      " [ 0.  1.  6. -1.  2.]]\n",
      "7 [ 0.  0. -9. -2. -2.]\n",
      "1 [0 1]\n"
     ]
    },
    {
     "ename": "ValueError",
     "evalue": "The truth value of an array with more than one element is ambiguous. Use a.any() or a.all()",
     "output_type": "error",
     "traceback": [
      "\u001b[1;31m---------------------------------------------------------------------------\u001b[0m",
      "\u001b[1;31mValueError\u001b[0m                                Traceback (most recent call last)",
      "\u001b[1;32m<ipython-input-224-ef4dffa44ee0>\u001b[0m in \u001b[0;36m<module>\u001b[1;34m\u001b[0m\n\u001b[0;32m      5\u001b[0m     \u001b[0mprint\u001b[0m\u001b[1;33m(\u001b[0m\u001b[1;36m1\u001b[0m\u001b[1;33m,\u001b[0m\u001b[0mj1\u001b[0m\u001b[1;33m)\u001b[0m\u001b[1;33m\u001b[0m\u001b[1;33m\u001b[0m\u001b[0m\n\u001b[0;32m      6\u001b[0m     \u001b[0mz0\u001b[0m\u001b[1;33m=\u001b[0m\u001b[0mz1\u001b[0m\u001b[1;33m=\u001b[0m\u001b[1;33m[\u001b[0m\u001b[1;33m[\u001b[0m\u001b[1;36m100.\u001b[0m\u001b[1;33m]\u001b[0m\u001b[1;33m]\u001b[0m\u001b[1;33m\u001b[0m\u001b[1;33m\u001b[0m\u001b[0m\n\u001b[1;32m----> 7\u001b[1;33m     \u001b[1;32mif\u001b[0m\u001b[1;33m(\u001b[0m\u001b[0mA\u001b[0m\u001b[1;33m[\u001b[0m\u001b[1;36m0\u001b[0m\u001b[1;33m,\u001b[0m\u001b[0mj1\u001b[0m\u001b[1;33m]\u001b[0m\u001b[1;33m>\u001b[0m\u001b[1;36m0\u001b[0m\u001b[1;33m)\u001b[0m\u001b[1;33m:\u001b[0m\u001b[1;33m\u001b[0m\u001b[1;33m\u001b[0m\u001b[0m\n\u001b[0m\u001b[0;32m      8\u001b[0m         \u001b[0mz0\u001b[0m\u001b[1;33m=\u001b[0m\u001b[0mb\u001b[0m\u001b[1;33m[\u001b[0m\u001b[1;36m0\u001b[0m\u001b[1;33m,\u001b[0m\u001b[1;36m0\u001b[0m\u001b[1;33m]\u001b[0m\u001b[1;33m/\u001b[0m\u001b[0mA\u001b[0m\u001b[1;33m[\u001b[0m\u001b[1;36m0\u001b[0m\u001b[1;33m,\u001b[0m\u001b[0mj1\u001b[0m\u001b[1;33m]\u001b[0m\u001b[1;33m\u001b[0m\u001b[1;33m\u001b[0m\u001b[0m\n\u001b[0;32m      9\u001b[0m     \u001b[1;32mif\u001b[0m\u001b[1;33m(\u001b[0m\u001b[0mA\u001b[0m\u001b[1;33m[\u001b[0m\u001b[1;36m1\u001b[0m\u001b[1;33m,\u001b[0m\u001b[0mj1\u001b[0m\u001b[1;33m]\u001b[0m\u001b[1;33m>\u001b[0m\u001b[1;36m0\u001b[0m\u001b[1;33m)\u001b[0m\u001b[1;33m:\u001b[0m\u001b[1;33m\u001b[0m\u001b[1;33m\u001b[0m\u001b[0m\n",
      "\u001b[1;31mValueError\u001b[0m: The truth value of an array with more than one element is ambiguous. Use a.any() or a.all()"
     ]
    }
   ],
   "source": [
    "flag=True\n",
    "while flag==True:\n",
    "    j1=np.where(o==max(o))\n",
    "    j1=j1[0]\n",
    "    print(1,j1)\n",
    "    z0=z1=[[100.]]\n",
    "    if(A[0,j1]>0):\n",
    "        z0=b[0,0]/A[0,j1]\n",
    "    if(A[1,j1]>0):\n",
    "        z1=b[1,0]/A[1,j1]\n",
    "    if z1<z0:i=1\n",
    "    if z1>z0:i=0\n",
    "    i1=A[i,j1]\n",
    "    print(2,i1)\n",
    "    for x in range(5):\n",
    "        A[i,x]=A[i,x]/i1\n",
    "    b[i,0]=b[i,0]/i1\n",
    "    m=A[1-i,j1]\n",
    "    for x in range(5):\n",
    "        A[1-i,x]=A[1-i,x]-m*A[i,x]\n",
    "    b[1-i,0]=b[1-i,0]-b[i,0]*m\n",
    "    cb[i]=c[j1]\n",
    "    print(c,c[j1])\n",
    "    print(3,o)\n",
    "    for x in range(5):\n",
    "        o[x]=c[x]-cb[0]*A[0,x]-cb[1]*A[1,x]\n",
    "    print(4,b)\n",
    "    print(5,cb)\n",
    "    print(6,A)\n",
    "    print(7,o)\n",
    "    flag=False\n",
    "    for x in o:\n",
    "         if x>0:\n",
    "            flag=True    "
   ]
  },
  {
   "cell_type": "code",
   "execution_count": 16,
   "metadata": {},
   "outputs": [
    {
     "name": "stdout",
     "output_type": "stream",
     "text": [
      "[[ 2  2 -1  2  1  0]\n",
      " [ 4  1  0  4  0  1]]\n"
     ]
    }
   ],
   "source": [
    "A1 = np.concatenate((b, A),axis=1)\n",
    "print(A1)"
   ]
  },
  {
   "cell_type": "code",
   "execution_count": 107,
   "metadata": {},
   "outputs": [
    {
     "name": "stdout",
     "output_type": "stream",
     "text": [
      "1.0\n"
     ]
    }
   ],
   "source": [
    "x=max(o)\n",
    "print(x)"
   ]
  },
  {
   "cell_type": "code",
   "execution_count": 94,
   "metadata": {},
   "outputs": [
    {
     "name": "stdout",
     "output_type": "stream",
     "text": [
      "[[1.]]\n",
      "[[1.]\n",
      " [3.]]\n",
      "[[1.]\n",
      " [3.]]\n",
      "[[ 1.  -0.5  1.   0.5  0. ]\n",
      " [ 0.   0.5  3.  -0.5  1. ]]\n",
      "[ 0.  1. -9. -3.  0.]\n"
     ]
    }
   ],
   "source": [
    "i1=A[i,j1]\n",
    "print(i1)\n",
    "for x in range(5):\n",
    "    A[i,x]=A[i,x]/i1\n",
    "b[i,0]=b[i,0]/i1\n",
    "print(b)\n",
    "m=A[1-i,j1]\n",
    "for x in range(5):\n",
    "    A[1-i,x]=A[1-i,x]-m*A[i,x]\n",
    "b[1-i,0]=b[1-i,0]-b[i,0]*m\n",
    "m=o[j1]\n",
    "for x in range(5):\n",
    "    o[x]=o[x]-m*A[i,x]\n",
    "print(b)\n",
    "print(A)\n",
    "print(o)\n",
    "for x in o:\n",
    "     if x>0:\n",
    "        flag=true"
   ]
  },
  {
   "cell_type": "code",
   "execution_count": 101,
   "metadata": {},
   "outputs": [
    {
     "name": "stdout",
     "output_type": "stream",
     "text": [
      "[[1.]]\n",
      "[[1.]\n",
      " [3.]]\n",
      "[[ 1.  -0.5  1.   0.5  0. ]\n",
      " [ 0.   0.5  3.  -0.5  1. ]]\n",
      "[ 0.  1. -9. -3.  0.]\n"
     ]
    }
   ],
   "source": [
    "    j1=np.where(max(o))\n",
    "    z0=z1=0\n",
    "    if(z0>0):\n",
    "        z0=b[0,0]/A[0,j1]\n",
    "    if(z1>0):\n",
    "        z1=b[1,0]/A[1,j1]\n",
    "    if z1>=z0:i=0 \n",
    "    else:i=1\n",
    "    i1=A[i,j1]\n",
    "    print(i1)\n",
    "    for x in range(5):\n",
    "        A[i,x]=A[i,x]/i1\n",
    "    b[i,0]=b[i,0]/i1\n",
    "    m=A[1-i,j1]\n",
    "    for x in range(5):\n",
    "        A[1-i,x]=A[1-i,x]-m*A[i,x]\n",
    "    b[1-i,0]=b[1-i,0]-b[i,0]*m\n",
    "    m=o[j1]\n",
    "    for x in range(5):\n",
    "        o[x]=o[x]-m*A[i,x]\n",
    "    print(b)\n",
    "    print(A)\n",
    "    print(o)"
   ]
  },
  {
   "cell_type": "code",
   "execution_count": 59,
   "metadata": {},
   "outputs": [
    {
     "data": {
      "text/plain": [
       "int"
      ]
     },
     "execution_count": 59,
     "metadata": {},
     "output_type": "execute_result"
    }
   ],
   "source": [
    "type(j)"
   ]
  }
 ],
 "metadata": {
  "kernelspec": {
   "display_name": "Python 3",
   "language": "python",
   "name": "python3"
  },
  "language_info": {
   "codemirror_mode": {
    "name": "ipython",
    "version": 3
   },
   "file_extension": ".py",
   "mimetype": "text/x-python",
   "name": "python",
   "nbconvert_exporter": "python",
   "pygments_lexer": "ipython3",
   "version": "3.8.3"
  },
  "toc": {
   "base_numbering": 1,
   "nav_menu": {},
   "number_sections": true,
   "sideBar": true,
   "skip_h1_title": false,
   "title_cell": "Table of Contents",
   "title_sidebar": "Contents",
   "toc_cell": false,
   "toc_position": {},
   "toc_section_display": true,
   "toc_window_display": false
  }
 },
 "nbformat": 4,
 "nbformat_minor": 4
}
