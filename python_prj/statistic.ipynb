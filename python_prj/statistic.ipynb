{
 "cells": [
  {
   "cell_type": "code",
   "execution_count": 2,
   "metadata": {},
   "outputs": [
    {
     "name": "stdout",
     "output_type": "stream",
     "text": [
      "请输入数字(直接输入回车退出)：1\n",
      "请输入数字(直接输入回车退出)：2\n",
      "请输入数字(直接输入回车退出)：5\n",
      "请输入数字(直接输入回车退出)：4\n",
      "请输入数字(直接输入回车退出)：5\n",
      "请输入数字(直接输入回车退出)：4\n",
      "请输入数字(直接输入回车退出)：52\n",
      "请输入数字(直接输入回车退出)：\n",
      "平均值：10.428571428571429，标准差：18.39254507363552，中位数：4\n"
     ]
    }
   ],
   "source": [
    "from math import sqrt\n",
    "\n",
    "\n",
    "def get_numbers():\n",
    "    \"\"\"获取数字\"\"\"\n",
    "    nums = []\n",
    "    while True:\n",
    "        input_num_str = input(\"请输入数字(直接输入回车退出)：\")\n",
    "        if input_num_str == \"\":\n",
    "            break\n",
    "        nums.append(eval(input_num_str))\n",
    "    return nums\n",
    "\n",
    "\n",
    "def mean(nums):\n",
    "    \"\"\"计算数组平均值\"\"\"\n",
    "    s = 0\n",
    "    for num in nums:\n",
    "        s = s + num\n",
    "    return s / len(nums)\n",
    "\n",
    "\n",
    "def dev(nums, mean_value):\n",
    "    \"\"\"计算数组标准差\"\"\"\n",
    "    s = 0\n",
    "    for num in nums:\n",
    "        s = s + (num - mean_value) ** 2\n",
    "    return sqrt(s / (len(nums) - 1))\n",
    "\n",
    "\n",
    "def median(nums):\n",
    "    \"\"\"计算数组中位数\"\"\"\n",
    "    nums.sort()\n",
    "    nums_size = len(nums)\n",
    "    if nums_size % 2:\n",
    "        med = nums[nums_size // 2]\n",
    "    else:\n",
    "        med = (nums[nums_size // 2 - 1] + nums[nums_size // 2]) / 2\n",
    "    return med\n",
    "\n",
    "\n",
    "if __name__ == '__main__':\n",
    "    n = get_numbers()\n",
    "    m = mean(n)\n",
    "    print(f'平均值：{m}，标准差：{dev(n, m)}，中位数：{median(n)}')"
   ]
  }
 ],
 "metadata": {
  "kernelspec": {
   "display_name": "Python 3",
   "language": "python",
   "name": "python3"
  },
  "language_info": {
   "codemirror_mode": {
    "name": "ipython",
    "version": 3
   },
   "file_extension": ".py",
   "mimetype": "text/x-python",
   "name": "python",
   "nbconvert_exporter": "python",
   "pygments_lexer": "ipython3",
   "version": "3.8.3"
  },
  "toc": {
   "base_numbering": 1,
   "nav_menu": {},
   "number_sections": true,
   "sideBar": true,
   "skip_h1_title": false,
   "title_cell": "Table of Contents",
   "title_sidebar": "Contents",
   "toc_cell": false,
   "toc_position": {},
   "toc_section_display": true,
   "toc_window_display": false
  }
 },
 "nbformat": 4,
 "nbformat_minor": 4
}
