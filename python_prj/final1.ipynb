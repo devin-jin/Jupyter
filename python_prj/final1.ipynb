{
 "cells": [
  {
   "cell_type": "code",
   "execution_count": null,
   "metadata": {},
   "outputs": [],
   "source": [
    "my_list=[]\n",
    "for i in range(1000):\n",
    "    my_list.append(i+1)\n",
    "print(min(my_list),'\\n',max(my_list),'\\n',sum(my_list),'\\n',round(sum(my_list)/1000,1))"
   ]
  },
  {
   "cell_type": "code",
   "execution_count": null,
   "metadata": {},
   "outputs": [],
   "source": [
    "order_list=['rice','beef','chips','pizza','pizza','yogurt','tomato','rice','beef']\n",
    "sum=0\n",
    "for i in order_list:\n",
    "    if i=='rice':\n",
    "        p=2\n",
    "    elif i=='beef':\n",
    "        p=8\n",
    "    elif i=='chips':\n",
    "        p=8\n",
    "    elif i=='pizza':\n",
    "        p=10\n",
    "    elif i=='beef':\n",
    "        p=8\n",
    "    elif i=='yogurt':\n",
    "        p=5\n",
    "    else:\n",
    "        p=8\n",
    "    print(f'{i} is {p} dollars')\n",
    "    sum+=p\n",
    "print(sum)"
   ]
  },
  {
   "cell_type": "code",
   "execution_count": null,
   "metadata": {},
   "outputs": [],
   "source": [
    "survey_list=['Niumei','Niu Ke Le','GURR','LOLO']\n",
    "result_dict={'Niumei':'Nowcoder','GURR':'HUAWEI'}\n",
    "for i in survey_list:\n",
    "    if i in result_dict:\n",
    "        print(f'Hi,{i}!,Thank you for participating in our graduation survey')\n",
    "    else:\n",
    "        print(f'Hi,{i}!,could you take part in our graduation survey')"
   ]
  },
  {
   "cell_type": "code",
   "execution_count": null,
   "metadata": {},
   "outputs": [],
   "source": [
    "import random\n",
    "A=100000\n",
    "cnt=0\n",
    "for i in range(A):\n",
    "    x=random.uniform(0,1)\n",
    "    y=random.uniform(0,1)\n",
    "    if x**2+y**2<1:\n",
    "        cnt+=1\n",
    "print('pi=',cnt*4/A)\n",
    "    "
   ]
  },
  {
   "cell_type": "code",
   "execution_count": null,
   "metadata": {},
   "outputs": [],
   "source": [
    "from random import randint\n",
    "num=randint(0,101)\n",
    "cnt=0\n",
    "while 1:\n",
    "    guess=int(input('输入猜测的数字'))\n",
    "    cnt+=1\n",
    "    if guess==num:\n",
    "        print(f'预测了{cnt}次，猜中了数字')\n",
    "        break\n",
    "    if guess<num:\n",
    "        print('遗憾，太小了')\n",
    "    else:\n",
    "        print('遗憾，太大了')"
   ]
  },
  {
   "cell_type": "code",
   "execution_count": null,
   "metadata": {},
   "outputs": [],
   "source": [
    "while 1:\n",
    "    print('welcome! How many people please?\\nEnter \\'quit\\' to end the program.')\n",
    "    i=input()\n",
    "    if i=='quit':\n",
    "        break\n",
    "    if i in list1:\n",
    "        i=eval(i)\n",
    "        if i<=4:\n",
    "            print('small')\n",
    "        elif i<=6:\n",
    "            print('middle')\n",
    "        elif i<10:\n",
    "            print('large')\n",
    "        else:\n",
    "            print('sorry')"
   ]
  },
  {
   "cell_type": "code",
   "execution_count": null,
   "metadata": {},
   "outputs": [],
   "source": [
    "n=input('输入一个四位整数')\n",
    "s=str(n)\n",
    "print((eval(s[2])+3)%9*1000+(eval(s[3])+3)%9*100+(eval(s[0])+3)%9*10+(eval(s[1])+3)%9)"
   ]
  },
  {
   "cell_type": "code",
   "execution_count": null,
   "metadata": {},
   "outputs": [],
   "source": [
    "d={}\n",
    "s=input('输入一个单词')\n",
    "s=s.lower()\n",
    "for i in s:\n",
    "    d[i]=d.get(i,0)+1\n",
    "for k in d:\n",
    "    print(k,d[k])"
   ]
  }
 ],
 "metadata": {
  "kernelspec": {
   "display_name": "Python 3",
   "language": "python",
   "name": "python3"
  },
  "language_info": {
   "codemirror_mode": {
    "name": "ipython",
    "version": 3
   },
   "file_extension": ".py",
   "mimetype": "text/x-python",
   "name": "python",
   "nbconvert_exporter": "python",
   "pygments_lexer": "ipython3",
   "version": "3.8.3"
  },
  "nbTranslate": {
   "displayLangs": [
    "ch",
    "en"
   ],
   "hotkey": "alt-t",
   "langInMainMenu": true,
   "sourceLang": "en",
   "targetLang": "ch",
   "useGoogleTranslate": true
  },
  "toc": {
   "base_numbering": 1,
   "nav_menu": {},
   "number_sections": true,
   "sideBar": true,
   "skip_h1_title": false,
   "title_cell": "Table of Contents",
   "title_sidebar": "Contents",
   "toc_cell": false,
   "toc_position": {},
   "toc_section_display": true,
   "toc_window_display": false
  }
 },
 "nbformat": 4,
 "nbformat_minor": 4
}
