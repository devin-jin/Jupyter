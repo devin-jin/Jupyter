{
 "cells": [
  {
   "cell_type": "code",
   "execution_count": 1,
   "metadata": {},
   "outputs": [],
   "source": [
    "\"\"\"\n",
    "读取英文文本，练习列表、字典、元组等操作\n",
    "\"\"\"\n",
    "\n",
    "\n",
    "def get_text():\n",
    "    \"\"\"读取txt中的文本，并把符号替换成字符\"\"\"\n",
    "    text = open(r'C:\\Users\\devin\\Desktop\\博鳌年会习总讲话.txt', 'r').read()\n",
    "    text = text.lower()\n",
    "    for ch in '!\"#$%&()*+,-./:;<=>?@[\\\\]^_‘{|}~':\n",
    "        text = text.replace(ch, ' ')\n",
    "    return text\n",
    "\n",
    "\n",
    "def rule(t):\n",
    "    \"\"\"用于列表排序，输入一个元组，返回元组的第2个值\"\"\"\n",
    "    return t[1]\n",
    "\n"
   ]
  },
  {
   "cell_type": "code",
   "execution_count": 5,
   "metadata": {},
   "outputs": [
    {
     "name": "stdout",
     "output_type": "stream",
     "text": [
      "and       :145\n",
      "the       :132\n",
      "of        :70\n",
      "to        :66\n",
      "in        :41\n",
      "a         :40\n",
      "for       :30\n",
      "we        :26\n",
      "development:21\n",
      "countries :18\n"
     ]
    }
   ],
   "source": [
    "    text_get = get_text()\n",
    "    words = text_get.split()  # 以空格分隔字符串返回列表\n",
    "    word_count = {}\n",
    "    for word in words:\n",
    "        # if word in word_count.keys():\n",
    "        #     word_count[word] = word_count[word] + 1\n",
    "        # else:\n",
    "        #     word_count[word] = 1\n",
    "        word_count[word] = word_count.get(word, 0) + 1\n",
    "    word_count_list = list(word_count.items())\n",
    "    # 列表排序有两种方法，.sort,在原列表中排序,sorted()，返回新列表\n",
    "    word_count_list.sort(key=rule, reverse=True)\n",
    "    for i in range(10):\n",
    "        word, count = word_count_list[i]\n",
    "        print(f\"{word:<10}:{count}\")"
   ]
  },
  {
   "cell_type": "code",
   "execution_count": 8,
   "metadata": {},
   "outputs": [
    {
     "name": "stdout",
     "output_type": "stream",
     "text": [
      "曹操        :936\n",
      "孔明        :831\n",
      "将军        :772\n",
      "却说        :657\n",
      "玄德        :570\n",
      "关公        :509\n",
      "丞相        :491\n",
      "二人        :468\n",
      "不可        :441\n",
      "荆州        :421\n"
     ]
    }
   ],
   "source": [
    "\"\"\"\n",
    "读取中文文本，练习列表、字典、元组和jieba库操作\n",
    "\"\"\"\n",
    "import jieba\n",
    "\n",
    "\n",
    "def get_text():\n",
    "    \"\"\"读取txt中的文本，并把符号替换成字符\"\"\"\n",
    "    text = open(r'C:\\Users\\devin\\Desktop\\三国演义.txt', 'r', encoding='utf-8').read()\n",
    "    words = jieba.lcut(text)\n",
    "    return words\n",
    "\n",
    "\n",
    "def rule(t):\n",
    "    \"\"\"用于列表排序，输入一个元组，返回元组的第2个值\"\"\"\n",
    "    return t[1]\n",
    "\n",
    "\n",
    "if __name__ == '__main__':\n",
    "    get_words = get_text()\n",
    "    word_count = {}\n",
    "    for word in get_words:\n",
    "        if len(word) == 1:\n",
    "            continue\n",
    "        else:\n",
    "            word_count[word] = word_count.get(word, 0) + 1\n",
    "    word_count_list = list(word_count.items())\n",
    "    # 列表排序有两种方法，.sort,在原列表中排序,sorted()，返回新列表\n",
    "    word_count_list.sort(key=rule, reverse=True)\n",
    "    for i in range(10):\n",
    "        word, count = word_count_list[i]\n",
    "        print(f\"{word:<10}:{count}\")\n"
   ]
  },
  {
   "cell_type": "code",
   "execution_count": 8,
   "metadata": {},
   "outputs": [
    {
     "name": "stderr",
     "output_type": "stream",
     "text": [
      "Building prefix dict from the default dictionary ...\n",
      "Loading model from cache C:\\Users\\devin\\AppData\\Local\\Temp\\jieba.cache\n",
      "Loading model cost 0.536 seconds.\n",
      "Prefix dict has been built successfully.\n"
     ]
    },
    {
     "name": "stdout",
     "output_type": "stream",
     "text": [
      "曹操        :1434\n",
      "孔明        :1373\n",
      "刘备        :1224\n",
      "关羽        :779\n",
      "不能        :387\n",
      "如此        :378\n",
      "张飞        :348\n",
      "商议        :346\n",
      "如何        :341\n",
      "主公        :330\n"
     ]
    }
   ],
   "source": [
    "\"\"\"\n",
    "读取中文文本，练习列表、字典、元组和jieba库操作\n",
    "读取三国演义文本，计算人物的出场次数\n",
    "\"\"\"\n",
    "import jieba\n",
    "\n",
    "\n",
    "def get_text():\n",
    "    \"\"\"读取txt中的文本，并把符号替换成字符\"\"\"\n",
    "    text = open(r'C:\\Users\\devin\\Desktop\\三国演义.txt', 'r', encoding='utf-8').read()\n",
    "    words = jieba.lcut(text)\n",
    "    return words\n",
    "\n",
    "\n",
    "def rule(t):\n",
    "    \"\"\"用于列表排序，输入一个元组，返回元组的第2个值\"\"\"\n",
    "    return t[1]\n",
    "\n",
    "\n",
    "if __name__ == '__main__':\n",
    "    excludes = ['将军', '却说', '二人', '不可', '荆州']\n",
    "    get_words = get_text()\n",
    "    word_count = {}\n",
    "    for word in get_words:\n",
    "        if len(word) == 1:\n",
    "            continue\n",
    "        elif word == \"诸葛亮\" or word == \"孔明曰\":\n",
    "            re_word = \"孔明\"\n",
    "        elif word == \"关公\" or word == \"云长\":\n",
    "            re_word = \"关羽\"\n",
    "        elif word == \"玄德\" or word == \"玄德曰\":\n",
    "            re_word = \"刘备\"\n",
    "        elif word == \"孟德\" or word == \"丞相\":\n",
    "            re_word = \"曹操\"\n",
    "        else:\n",
    "            re_word = word\n",
    "        word_count[re_word] = word_count.get(re_word, 0) + 1\n",
    "    for word in excludes:\n",
    "        del(word_count[word])\n",
    "    word_count_list = list(word_count.items())\n",
    "    # 列表排序有两种方法，.sort,在原列表中排序,sorted()，返回新列表\n",
    "    word_count_list.sort(key=rule, reverse=True)\n",
    "    for i in range(10):\n",
    "        word, count = word_count_list[i]\n",
    "        print(f\"{word:<10}:{count}\")"
   ]
  },
  {
   "cell_type": "code",
   "execution_count": null,
   "metadata": {},
   "outputs": [],
   "source": []
  }
 ],
 "metadata": {
  "kernelspec": {
   "display_name": "Python 3.8.3 ('base')",
   "language": "python",
   "name": "python3"
  },
  "language_info": {
   "codemirror_mode": {
    "name": "ipython",
    "version": 3
   },
   "file_extension": ".py",
   "mimetype": "text/x-python",
   "name": "python",
   "nbconvert_exporter": "python",
   "pygments_lexer": "ipython3",
   "version": "3.8.3"
  },
  "toc": {
   "base_numbering": 1,
   "nav_menu": {},
   "number_sections": true,
   "sideBar": true,
   "skip_h1_title": false,
   "title_cell": "Table of Contents",
   "title_sidebar": "Contents",
   "toc_cell": false,
   "toc_position": {},
   "toc_section_display": true,
   "toc_window_display": false
  },
  "vscode": {
   "interpreter": {
    "hash": "ad2bdc8ecc057115af97d19610ffacc2b4e99fae6737bb82f5d7fb13d2f2c186"
   }
  }
 },
 "nbformat": 4,
 "nbformat_minor": 4
}
