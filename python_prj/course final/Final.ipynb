{
 "cells": [
  {
   "cell_type": "code",
   "execution_count": 92,
   "metadata": {},
   "outputs": [],
   "source": [
    "import pandas as pd\n",
    "import matplotlib.pyplot as plt\n",
    "import numpy as np\n",
    "%matplotlib inline"
   ]
  },
  {
   "cell_type": "code",
   "execution_count": 113,
   "metadata": {},
   "outputs": [
    {
     "data": {
      "text/plain": [
       "[<matplotlib.lines.Line2D at 0x19531256bb0>]"
      ]
     },
     "execution_count": 113,
     "metadata": {},
     "output_type": "execute_result"
    },
    {
     "data": {
      "image/png": "[encoded data removed]",
      "text/plain": [
       "<Figure size 432x288 with 1 Axes>"
      ]
     },
     "metadata": {
      "needs_background": "light"
     },
     "output_type": "display_data"
    }
   ],
   "source": [
    "data0=pd.read_excel('原始数据.xlsx')\n",
    "data0=data0.iloc[9200:10700]\n",
    "plt.plot(data0.Time,data0.force)"
   ]
  },
  {
   "cell_type": "code",
   "execution_count": 108,
   "metadata": {
    "scrolled": true
   },
   "outputs": [
    {
     "data": {
      "text/plain": [
       "[<matplotlib.lines.Line2D at 0x195318da700>]"
      ]
     },
     "execution_count": 108,
     "metadata": {},
     "output_type": "execute_result"
    },
    {
     "data": {
      "image/png": "[encoded data removed]",
      "text/plain": [
       "<Figure size 432x288 with 1 Axes>"
      ]
     },
     "metadata": {
      "needs_background": "light"
     },
     "output_type": "display_data"
    }
   ],
   "source": [
    "plt.plot(data0.Time,data0.force)"
   ]
  },
  {
   "cell_type": "code",
   "execution_count": 119,
   "metadata": {},
   "outputs": [
    {
     "data": {
      "text/html": [
       "<div>\n",
       "<style scoped>\n",
       "    .dataframe tbody tr th:only-of-type {\n",
       "        vertical-align: middle;\n",
       "    }\n",
       "\n",
       "    .dataframe tbody tr th {\n",
       "        vertical-align: top;\n",
       "    }\n",
       "\n",
       "    .dataframe thead th {\n",
       "        text-align: right;\n",
       "    }\n",
       "</style>\n",
       "<table border=\"1\" class=\"dataframe\">\n",
       "  <thead>\n",
       "    <tr style=\"text-align: right;\">\n",
       "      <th></th>\n",
       "      <th>Time</th>\n",
       "      <th>force</th>\n",
       "    </tr>\n",
       "  </thead>\n",
       "  <tbody>\n",
       "    <tr>\n",
       "      <th>1000</th>\n",
       "      <td>1.000</td>\n",
       "      <td>0.886244</td>\n",
       "    </tr>\n",
       "    <tr>\n",
       "      <th>1001</th>\n",
       "      <td>1.001</td>\n",
       "      <td>-0.613756</td>\n",
       "    </tr>\n",
       "    <tr>\n",
       "      <th>1002</th>\n",
       "      <td>1.002</td>\n",
       "      <td>0.136244</td>\n",
       "    </tr>\n",
       "    <tr>\n",
       "      <th>1003</th>\n",
       "      <td>1.003</td>\n",
       "      <td>-1.863756</td>\n",
       "    </tr>\n",
       "    <tr>\n",
       "      <th>1004</th>\n",
       "      <td>1.004</td>\n",
       "      <td>-1.613756</td>\n",
       "    </tr>\n",
       "    <tr>\n",
       "      <th>...</th>\n",
       "      <td>...</td>\n",
       "      <td>...</td>\n",
       "    </tr>\n",
       "    <tr>\n",
       "      <th>1995</th>\n",
       "      <td>1.995</td>\n",
       "      <td>0.636244</td>\n",
       "    </tr>\n",
       "    <tr>\n",
       "      <th>1996</th>\n",
       "      <td>1.996</td>\n",
       "      <td>-1.113756</td>\n",
       "    </tr>\n",
       "    <tr>\n",
       "      <th>1997</th>\n",
       "      <td>1.997</td>\n",
       "      <td>-0.613756</td>\n",
       "    </tr>\n",
       "    <tr>\n",
       "      <th>1998</th>\n",
       "      <td>1.998</td>\n",
       "      <td>0.136244</td>\n",
       "    </tr>\n",
       "    <tr>\n",
       "      <th>1999</th>\n",
       "      <td>1.999</td>\n",
       "      <td>-1.863756</td>\n",
       "    </tr>\n",
       "  </tbody>\n",
       "</table>\n",
       "<p>1000 rows × 2 columns</p>\n",
       "</div>"
      ],
      "text/plain": [
       "       Time     force\n",
       "1000  1.000  0.886244\n",
       "1001  1.001 -0.613756\n",
       "1002  1.002  0.136244\n",
       "1003  1.003 -1.863756\n",
       "1004  1.004 -1.613756\n",
       "...     ...       ...\n",
       "1995  1.995  0.636244\n",
       "1996  1.996 -1.113756\n",
       "1997  1.997 -0.613756\n",
       "1998  1.998  0.136244\n",
       "1999  1.999 -1.863756\n",
       "\n",
       "[1000 rows x 2 columns]"
      ]
     },
     "execution_count": 119,
     "metadata": {},
     "output_type": "execute_result"
    }
   ],
   "source": [
    "data1"
   ]
  },
  {
   "cell_type": "code",
   "execution_count": 120,
   "metadata": {},
   "outputs": [
    {
     "data": {
      "text/plain": [
       "Time     1.999000\n",
       "force   -1.863756\n",
       "Name: 1999, dtype: float64"
      ]
     },
     "execution_count": 120,
     "metadata": {},
     "output_type": "execute_result"
    }
   ],
   "source": [
    "data1.iloc[-1,:]"
   ]
  },
  {
   "cell_type": "code",
   "execution_count": 100,
   "metadata": {},
   "outputs": [
    {
     "data": {
      "text/plain": [
       "[<matplotlib.lines.Line2D at 0x19531ca0e80>]"
      ]
     },
     "execution_count": 100,
     "metadata": {},
     "output_type": "execute_result"
    },
    {
     "data": {
      "image/png": "[encoded data removed]",
      "text/plain": [
       "<Figure size 432x288 with 1 Axes>"
      ]
     },
     "metadata": {
      "needs_background": "light"
     },
     "output_type": "display_data"
    }
   ],
   "source": [
    "data0=pd.read_excel('原始数据.xlsx')\n",
    "plt.plot(data0.Time,data0.force)"
   ]
  },
  {
   "cell_type": "code",
   "execution_count": 16,
   "metadata": {},
   "outputs": [],
   "source": [
    "shape=data1.shape"
   ]
  },
  {
   "cell_type": "code",
   "execution_count": 18,
   "metadata": {},
   "outputs": [
    {
     "data": {
      "text/plain": [
       "1000"
      ]
     },
     "execution_count": 18,
     "metadata": {},
     "output_type": "execute_result"
    }
   ],
   "source": [
    "shape[0]"
   ]
  },
  {
   "cell_type": "code",
   "execution_count": 32,
   "metadata": {},
   "outputs": [],
   "source": [
    "a=1.0\n",
    "b=0.8\n",
    "c=[a,b]"
   ]
  },
  {
   "cell_type": "code",
   "execution_count": 57,
   "metadata": {
    "scrolled": true
   },
   "outputs": [
    {
     "data": {
      "text/html": [
       "<div>\n",
       "<style scoped>\n",
       "    .dataframe tbody tr th:only-of-type {\n",
       "        vertical-align: middle;\n",
       "    }\n",
       "\n",
       "    .dataframe tbody tr th {\n",
       "        vertical-align: top;\n",
       "    }\n",
       "\n",
       "    .dataframe thead th {\n",
       "        text-align: right;\n",
       "    }\n",
       "</style>\n",
       "<table border=\"1\" class=\"dataframe\">\n",
       "  <thead>\n",
       "    <tr style=\"text-align: right;\">\n",
       "      <th></th>\n",
       "      <th>Time</th>\n",
       "      <th>force</th>\n",
       "    </tr>\n",
       "  </thead>\n",
       "  <tbody>\n",
       "    <tr>\n",
       "      <th>0</th>\n",
       "      <td>1.0</td>\n",
       "      <td>0.8</td>\n",
       "    </tr>\n",
       "  </tbody>\n",
       "</table>\n",
       "</div>"
      ],
      "text/plain": [
       "   Time  force\n",
       "0   1.0    0.8"
      ]
     },
     "execution_count": 57,
     "metadata": {},
     "output_type": "execute_result"
    }
   ],
   "source": [
    "c=pd.DataFrame({'Time':[a],'force':[b]})\n",
    "c"
   ]
  },
  {
   "cell_type": "code",
   "execution_count": 85,
   "metadata": {},
   "outputs": [
    {
     "data": {
      "text/plain": [
       "array([[ 1.      ,  0.886244],\n",
       "       [ 1.001   , -0.613756],\n",
       "       [ 1.002   ,  0.136244],\n",
       "       ...,\n",
       "       [ 1.998   ,  0.136244],\n",
       "       [ 1.999   , -1.863756],\n",
       "       [ 1.      ,  0.8     ]])"
      ]
     },
     "execution_count": 85,
     "metadata": {},
     "output_type": "execute_result"
    }
   ],
   "source": [
    "np.insert(data1.values, len(data1.index), values=[a,b], axis=0)\n"
   ]
  },
  {
   "cell_type": "code",
   "execution_count": 76,
   "metadata": {
    "scrolled": true
   },
   "outputs": [
    {
     "data": {
      "text/html": [
       "<div>\n",
       "<style scoped>\n",
       "    .dataframe tbody tr th:only-of-type {\n",
       "        vertical-align: middle;\n",
       "    }\n",
       "\n",
       "    .dataframe tbody tr th {\n",
       "        vertical-align: top;\n",
       "    }\n",
       "\n",
       "    .dataframe thead th {\n",
       "        text-align: right;\n",
       "    }\n",
       "</style>\n",
       "<table border=\"1\" class=\"dataframe\">\n",
       "  <thead>\n",
       "    <tr style=\"text-align: right;\">\n",
       "      <th></th>\n",
       "      <th>0</th>\n",
       "      <th>1</th>\n",
       "    </tr>\n",
       "  </thead>\n",
       "  <tbody>\n",
       "    <tr>\n",
       "      <th>0</th>\n",
       "      <td>1.000</td>\n",
       "      <td>0.886244</td>\n",
       "    </tr>\n",
       "    <tr>\n",
       "      <th>1</th>\n",
       "      <td>1.001</td>\n",
       "      <td>-0.613756</td>\n",
       "    </tr>\n",
       "    <tr>\n",
       "      <th>2</th>\n",
       "      <td>1.002</td>\n",
       "      <td>0.136244</td>\n",
       "    </tr>\n",
       "  </tbody>\n",
       "</table>\n",
       "</div>"
      ],
      "text/plain": [
       "       0         1\n",
       "0  1.000  0.886244\n",
       "1  1.001 -0.613756\n",
       "2  1.002  0.136244"
      ]
     },
     "execution_count": 76,
     "metadata": {},
     "output_type": "execute_result"
    }
   ],
   "source": [
    "data2=data2.iloc[0:3]\n",
    "data2"
   ]
  },
  {
   "cell_type": "code",
   "execution_count": 77,
   "metadata": {},
   "outputs": [],
   "source": [
    "data2.to_excel('5.xlsx')"
   ]
  },
  {
   "cell_type": "code",
   "execution_count": 78,
   "metadata": {},
   "outputs": [
    {
     "data": {
      "text/html": [
       "<div>\n",
       "<style scoped>\n",
       "    .dataframe tbody tr th:only-of-type {\n",
       "        vertical-align: middle;\n",
       "    }\n",
       "\n",
       "    .dataframe tbody tr th {\n",
       "        vertical-align: top;\n",
       "    }\n",
       "\n",
       "    .dataframe thead th {\n",
       "        text-align: right;\n",
       "    }\n",
       "</style>\n",
       "<table border=\"1\" class=\"dataframe\">\n",
       "  <thead>\n",
       "    <tr style=\"text-align: right;\">\n",
       "      <th></th>\n",
       "      <th>Unnamed: 0</th>\n",
       "      <th>0</th>\n",
       "      <th>1</th>\n",
       "    </tr>\n",
       "  </thead>\n",
       "  <tbody>\n",
       "    <tr>\n",
       "      <th>0</th>\n",
       "      <td>0</td>\n",
       "      <td>1.000</td>\n",
       "      <td>0.886244</td>\n",
       "    </tr>\n",
       "    <tr>\n",
       "      <th>1</th>\n",
       "      <td>1</td>\n",
       "      <td>1.001</td>\n",
       "      <td>-0.613756</td>\n",
       "    </tr>\n",
       "    <tr>\n",
       "      <th>2</th>\n",
       "      <td>2</td>\n",
       "      <td>1.002</td>\n",
       "      <td>0.136244</td>\n",
       "    </tr>\n",
       "  </tbody>\n",
       "</table>\n",
       "</div>"
      ],
      "text/plain": [
       "   Unnamed: 0      0         1\n",
       "0           0  1.000  0.886244\n",
       "1           1  1.001 -0.613756\n",
       "2           2  1.002  0.136244"
      ]
     },
     "execution_count": 78,
     "metadata": {},
     "output_type": "execute_result"
    }
   ],
   "source": [
    "data3=pd.read_excel('5.xlsx')\n",
    "data3"
   ]
  },
  {
   "cell_type": "code",
   "execution_count": 112,
   "metadata": {
    "scrolled": false
   },
   "outputs": [
    {
     "data": {
      "text/plain": [
       "array([[ 20.      , 619.136244],\n",
       "       [ 20.001   , 615.386244],\n",
       "       [ 20.002   , 612.386244],\n",
       "       [ 20.003   , 608.636244],\n",
       "       [ 20.004   , 604.886244],\n",
       "       [ 20.005   , 600.136244],\n",
       "       [ 20.006   , 597.386244],\n",
       "       [ 20.007   , 592.636244],\n",
       "       [ 20.008   , 589.386244],\n",
       "       [ 20.009   , 587.636244],\n",
       "       [ 20.01    , 582.136244],\n",
       "       [ 20.011   , 577.386244],\n",
       "       [ 20.012   , 576.386244],\n",
       "       [ 20.013   , 571.636244],\n",
       "       [ 20.014   , 566.886244],\n",
       "       [ 20.015   , 561.386244],\n",
       "       [ 20.016   , 560.386244],\n",
       "       [ 20.017   , 554.386244],\n",
       "       [ 20.018   , 549.886244],\n",
       "       [ 20.019   , 544.886244],\n",
       "       [ 20.02    , 542.136244],\n",
       "       [ 20.021   , 537.386244],\n",
       "       [ 20.022   , 534.386244],\n",
       "       [ 20.023   , 530.386244],\n",
       "       [ 20.024   , 527.636244],\n",
       "       [ 20.025   , 523.886244],\n",
       "       [ 20.026   , 519.886244],\n",
       "       [ 20.027   , 516.886244],\n",
       "       [ 20.028   , 511.136244],\n",
       "       [ 20.029   , 509.136244],\n",
       "       [ 20.03    , 506.136244],\n",
       "       [ 20.031   , 499.136244],\n",
       "       [ 20.032   , 498.386244],\n",
       "       [ 20.033   , 493.886244],\n",
       "       [ 20.034   , 490.886244],\n",
       "       [ 20.035   , 486.886244],\n",
       "       [ 20.036   , 484.636244],\n",
       "       [ 20.037   , 483.886244],\n",
       "       [ 20.038   , 481.136244],\n",
       "       [ 20.039   , 476.636244],\n",
       "       [ 20.04    , 473.636244],\n",
       "       [ 20.041   , 471.136244],\n",
       "       [ 20.042   , 469.386244],\n",
       "       [ 20.043   , 465.386244],\n",
       "       [ 20.044   , 463.886244],\n",
       "       [ 20.045   , 459.386244],\n",
       "       [ 20.046   , 459.136244],\n",
       "       [ 20.047   , 457.886244],\n",
       "       [ 20.048   , 454.886244],\n",
       "       [ 20.049   , 454.136244],\n",
       "       [ 20.05    , 449.886244],\n",
       "       [ 20.051   , 450.136244],\n",
       "       [ 20.052   , 444.636244],\n",
       "       [ 20.053   , 445.636244],\n",
       "       [ 20.054   , 445.636244],\n",
       "       [ 20.055   , 443.886244],\n",
       "       [ 20.056   , 441.886244],\n",
       "       [ 20.057   , 441.136244],\n",
       "       [ 20.058   , 440.636244],\n",
       "       [ 20.059   , 437.886244],\n",
       "       [ 20.06    , 437.636244],\n",
       "       [ 20.061   , 434.136244],\n",
       "       [ 20.062   , 434.886244],\n",
       "       [ 20.063   , 433.886244],\n",
       "       [ 20.064   , 431.886244],\n",
       "       [ 20.065   , 430.386244],\n",
       "       [ 20.066   , 428.886244],\n",
       "       [ 20.067   , 428.636244],\n",
       "       [ 20.068   , 428.386244],\n",
       "       [ 20.069   , 427.636244],\n",
       "       [ 20.07    , 428.886244],\n",
       "       [ 20.071   , 425.636244],\n",
       "       [ 20.072   , 426.136244],\n",
       "       [ 20.073   , 425.636244],\n",
       "       [ 20.074   , 425.386244],\n",
       "       [ 20.075   , 425.886244],\n",
       "       [ 20.076   , 423.386244],\n",
       "       [ 20.077   , 422.136244],\n",
       "       [ 20.078   , 424.636244],\n",
       "       [ 20.079   , 423.886244],\n",
       "       [ 20.08    , 425.886244],\n",
       "       [ 20.081   , 426.636244],\n",
       "       [ 20.082   , 425.136244],\n",
       "       [ 20.083   , 426.136244],\n",
       "       [ 20.084   , 425.886244],\n",
       "       [ 20.085   , 426.636244],\n",
       "       [ 20.086   , 428.386244],\n",
       "       [ 20.087   , 428.136244],\n",
       "       [ 20.088   , 426.636244],\n",
       "       [ 20.089   , 430.886244],\n",
       "       [ 20.09    , 428.886244],\n",
       "       [ 20.091   , 428.886244],\n",
       "       [ 20.092   , 428.386244],\n",
       "       [ 20.093   , 432.386244],\n",
       "       [ 20.094   , 430.386244],\n",
       "       [ 20.095   , 429.636244],\n",
       "       [ 20.096   , 431.886244],\n",
       "       [ 20.097   , 433.386244],\n",
       "       [ 20.098   , 430.886244],\n",
       "       [ 20.099   , 431.386244],\n",
       "       [ 20.1     , 431.886244],\n",
       "       [ 20.101   , 433.136244],\n",
       "       [ 20.102   , 432.886244],\n",
       "       [ 20.103   , 436.386244],\n",
       "       [ 20.104   , 436.886244],\n",
       "       [ 20.105   , 439.386244],\n",
       "       [ 20.106   , 439.136244],\n",
       "       [ 20.107   , 439.636244],\n",
       "       [ 20.108   , 443.886244],\n",
       "       [ 20.109   , 442.386244],\n",
       "       [ 20.11    , 444.886244],\n",
       "       [ 20.111   , 443.136244],\n",
       "       [ 20.112   , 446.886244],\n",
       "       [ 20.113   , 447.386244],\n",
       "       [ 20.114   , 447.636244],\n",
       "       [ 20.115   , 447.136244],\n",
       "       [ 20.116   , 448.386244],\n",
       "       [ 20.117   , 449.386244],\n",
       "       [ 20.118   , 447.636244],\n",
       "       [ 20.119   , 447.886244],\n",
       "       [ 20.12    , 450.136244],\n",
       "       [ 20.121   , 450.886244],\n",
       "       [ 20.122   , 450.386244],\n",
       "       [ 20.123   , 450.886244],\n",
       "       [ 20.124   , 449.886244],\n",
       "       [ 20.125   , 452.386244],\n",
       "       [ 20.126   , 452.886244],\n",
       "       [ 20.127   , 453.136244],\n",
       "       [ 20.128   , 452.636244],\n",
       "       [ 20.129   , 453.386244],\n",
       "       [ 20.13    , 453.636244],\n",
       "       [ 20.131   , 453.636244],\n",
       "       [ 20.132   , 457.136244],\n",
       "       [ 20.133   , 453.386244],\n",
       "       [ 20.134   , 453.886244],\n",
       "       [ 20.135   , 451.886244],\n",
       "       [ 20.136   , 452.886244],\n",
       "       [ 20.137   , 451.636244],\n",
       "       [ 20.138   , 448.886244],\n",
       "       [ 20.139   , 448.636244],\n",
       "       [ 20.14    , 449.386244],\n",
       "       [ 20.141   , 445.636244],\n",
       "       [ 20.142   , 446.886244],\n",
       "       [ 20.143   , 444.636244],\n",
       "       [ 20.144   , 445.636244],\n",
       "       [ 20.145   , 446.136244],\n",
       "       [ 20.146   , 443.386244],\n",
       "       [ 20.147   , 444.386244],\n",
       "       [ 20.148   , 444.136244],\n",
       "       [ 20.149   , 442.886244],\n",
       "       [ 20.15    , 442.136244],\n",
       "       [ 20.151   , 443.886244],\n",
       "       [ 20.152   , 444.886244],\n",
       "       [ 20.153   , 443.886244],\n",
       "       [ 20.154   , 448.136244],\n",
       "       [ 20.155   , 445.386244],\n",
       "       [ 20.156   , 448.136244],\n",
       "       [ 20.157   , 449.636244],\n",
       "       [ 20.158   , 450.636244],\n",
       "       [ 20.159   , 450.636244],\n",
       "       [ 20.16    , 453.886244],\n",
       "       [ 20.161   , 454.636244],\n",
       "       [ 20.162   , 455.386244],\n",
       "       [ 20.163   , 456.136244],\n",
       "       [ 20.164   , 459.886244],\n",
       "       [ 20.165   , 461.886244],\n",
       "       [ 20.166   , 461.386244],\n",
       "       [ 20.167   , 464.886244],\n",
       "       [ 20.168   , 467.886244],\n",
       "       [ 20.169   , 466.886244],\n",
       "       [ 20.17    , 469.636244],\n",
       "       [ 20.171   , 470.636244],\n",
       "       [ 20.172   , 472.136244],\n",
       "       [ 20.173   , 473.636244],\n",
       "       [ 20.174   , 475.136244],\n",
       "       [ 20.175   , 477.636244],\n",
       "       [ 20.176   , 480.136244],\n",
       "       [ 20.177   , 480.136244],\n",
       "       [ 20.178   , 483.886244],\n",
       "       [ 20.179   , 484.386244],\n",
       "       [ 20.18    , 485.886244],\n",
       "       [ 20.181   , 488.636244],\n",
       "       [ 20.182   , 489.386244],\n",
       "       [ 20.183   , 489.386244],\n",
       "       [ 20.184   , 491.386244],\n",
       "       [ 20.185   , 494.386244],\n",
       "       [ 20.186   , 496.636244],\n",
       "       [ 20.187   , 498.886244],\n",
       "       [ 20.188   , 502.386244],\n",
       "       [ 20.189   , 500.386244],\n",
       "       [ 20.19    , 502.386244],\n",
       "       [ 20.191   , 505.386244],\n",
       "       [ 20.192   , 507.636244],\n",
       "       [ 20.193   , 510.386244],\n",
       "       [ 20.194   , 514.136244],\n",
       "       [ 20.195   , 515.886244],\n",
       "       [ 20.196   , 517.386244],\n",
       "       [ 20.197   , 519.636244],\n",
       "       [ 20.198   , 523.386244],\n",
       "       [ 20.199   , 524.636244]])"
      ]
     },
     "execution_count": 112,
     "metadata": {},
     "output_type": "execute_result"
    }
   ],
   "source": [
    "data0.iloc[]"
   ]
  },
  {
   "cell_type": "code",
   "execution_count": 117,
   "metadata": {},
   "outputs": [
    {
     "data": {
      "text/plain": [
       "[<matplotlib.lines.Line2D at 0x19533c1ddc0>]"
      ]
     },
     "execution_count": 117,
     "metadata": {},
     "output_type": "execute_result"
    },
    {
     "data": {
      "image/png": "[encoded data removed]",
      "text/plain": [
       "<Figure size 432x288 with 1 Axes>"
      ]
     },
     "metadata": {
      "needs_background": "light"
     },
     "output_type": "display_data"
    }
   ],
   "source": [
    "import numpy as np\n",
    "import matplotlib.pyplot as plt\n",
    "\n",
    "x = np.arange(0, 5, 0.1)\n",
    "y = np.sin(x)\n",
    "fig, ax = plt.subplots()\n",
    "ax.set_title('1')\n",
    "ax.plot(x, y)"
   ]
  },
  {
   "cell_type": "code",
   "execution_count": null,
   "metadata": {},
   "outputs": [],
   "source": [
    "i=1\n",
    "fig.savefig(f'{i}')"
   ]
  },
  {
   "cell_type": "code",
   "execution_count": null,
   "metadata": {},
   "outputs": [],
   "source": [
    "plt.Figure()"
   ]
  }
 ],
 "metadata": {
  "kernelspec": {
   "display_name": "Python 3",
   "language": "python",
   "name": "python3"
  },
  "language_info": {
   "codemirror_mode": {
    "name": "ipython",
    "version": 3
   },
   "file_extension": ".py",
   "mimetype": "text/x-python",
   "name": "python",
   "nbconvert_exporter": "python",
   "pygments_lexer": "ipython3",
   "version": "3.8.3"
  },
  "nbTranslate": {
   "displayLangs": [
    "ch",
    "en"
   ],
   "hotkey": "alt-t",
   "langInMainMenu": true,
   "sourceLang": "en",
   "targetLang": "ch",
   "useGoogleTranslate": true
  },
  "toc": {
   "base_numbering": 1,
   "nav_menu": {},
   "number_sections": true,
   "sideBar": true,
   "skip_h1_title": false,
   "title_cell": "Table of Contents",
   "title_sidebar": "Contents",
   "toc_cell": false,
   "toc_position": {},
   "toc_section_display": true,
   "toc_window_display": false
  }
 },
 "nbformat": 4,
 "nbformat_minor": 4
}
